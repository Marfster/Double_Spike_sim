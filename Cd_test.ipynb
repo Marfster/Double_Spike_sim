{
 "metadata": {
  "name": ""
 },
 "nbformat": 3,
 "nbformat_minor": 0,
 "worksheets": [
  {
   "cells": [
    {
     "cell_type": "code",
     "collapsed": false,
     "input": [
      "''' Sn properties - Masses, Ratios, Cup Configurations, ... '''\n",
      "#from sn_config import *\n",
      "from collections import Counter\n",
      "import pandas as pd\n",
      "import numpy as np\n",
      "\n",
      "'''Classes for Reading in the Data and applying Internal Normalisation'''\n",
      "#from nu_data_reduction import NU_data_read, int_norm, evaluation\n",
      "from parameter import *\n",
      "from dspike_formulas import *\n",
      "\n",
      "path = \"/Users/marf/Desktop/PhD Temp/Double Spike/Planning Sn 117-122/real data -intern norm/\"\n",
      "df = pd.read_csv(str(path + \"04272008n1567_Cd.csv\"))\n",
      "df_new = df.ix[:,\"112\":\"117\"]"
     ],
     "language": "python",
     "metadata": {},
     "outputs": [],
     "prompt_number": 8
    },
    {
     "cell_type": "code",
     "collapsed": false,
     "input": [
      "df_new.ix[0,:].to_dict()"
     ],
     "language": "python",
     "metadata": {},
     "outputs": [
      {
       "metadata": {},
       "output_type": "pyout",
       "prompt_number": 9,
       "text": [
        "{'112': 0.32589099999999999,\n",
        " '113': 0.56889499999999993,\n",
        " '114': 0.39216200000000001,\n",
        " '115': 0.00027999999999999998,\n",
        " '117': 0.0051419999999999999}"
       ]
      }
     ],
     "prompt_number": 9
    },
    {
     "cell_type": "code",
     "collapsed": false,
     "input": [
      "spikeCd_ls = [[\"111\"],[\"113\", \"112\", \"114\"]]"
     ],
     "language": "python",
     "metadata": {},
     "outputs": [],
     "prompt_number": 14
    },
    {
     "cell_type": "code",
     "collapsed": false,
     "input": [
      "Cd_masses ={\"110\" : 109.903007, \"111\" : 110.904182, \"112\" : 111.9027577,\n",
      "            \"113\" : 112.9044014, \"114\" : 113.9033586, \"116\" : 115.904756}\n",
      "\n",
      "Cd_spike = {\"112\" : 0.025899, \"113\" : 0.470870, \"114\" : 0.020021}\n",
      "Cd_spike_denom = \"111\"\n",
      "\n",
      "Cd_std = {\"112\" : 1.878410, \"113\" : 0.950024, \"114\" : 2.227540}\n",
      "Cd_std_denom = \"111\""
     ],
     "language": "python",
     "metadata": {},
     "outputs": [],
     "prompt_number": 15
    },
    {
     "cell_type": "code",
     "collapsed": false,
     "input": [
      "# Masses object used for calc\n",
      "Cd_mass_obj = load_mass_dict(Cd_masses)\n",
      "\n",
      "# Abundance object used for calc\n",
      "Cd_std_obj = load_ratio_dict(Cd_std, Cd_std_denom)\n",
      "Cd_spike_obj = load_ratio_dict(Cd_spike, Cd_spike_denom)"
     ],
     "language": "python",
     "metadata": {},
     "outputs": [],
     "prompt_number": 16
    },
    {
     "cell_type": "code",
     "collapsed": false,
     "input": [
      "sample_1567 = calc_dspike_sample(Cd_std_obj,df_new,Cd_spike_obj,Cd_mass_obj,spikeCd_ls ,\"111\")\n",
      "sample_1567_res = sample_1567.dspike_corr(3, 6, 0.0069, -2.24, 'z')\n",
      "print sample_1567_res[\"Nr2:z\"].mean()\n",
      "print ((sample_1567_res[\"Nr2:z\"].std()/np.sqrt(60))/sample_1567_res[\"Nr2:z\"].mean())*10**6\n",
      "print 2.227540 * (113.9033586/110.904182)** sample_1567_res[\"frac_nat_z2\"].mean()\n",
      "#sim1_mix.to_csv(path+'/Spike_Sim/'+\"sim_117_122,120 d=117, q=0.48, p=0.36.csv\")"
     ],
     "language": "python",
     "metadata": {},
     "outputs": [
      {
       "output_type": "stream",
       "stream": "stdout",
       "text": [
        "2.2246218983\n",
        "82.0132881269\n",
        "2.22462145682\n"
       ]
      }
     ],
     "prompt_number": 26
    },
    {
     "cell_type": "code",
     "collapsed": false,
     "input": [],
     "language": "python",
     "metadata": {},
     "outputs": []
    },
    {
     "cell_type": "code",
     "collapsed": false,
     "input": [],
     "language": "python",
     "metadata": {},
     "outputs": []
    }
   ],
   "metadata": {}
  }
 ]
}