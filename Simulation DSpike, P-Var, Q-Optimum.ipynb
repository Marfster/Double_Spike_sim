{
 "metadata": {
  "name": ""
 },
 "nbformat": 3,
 "nbformat_minor": 0,
 "worksheets": [
  {
   "cells": [
    {
     "cell_type": "code",
     "collapsed": false,
     "input": [
      "from parameter import *\n",
      "from dspike_formulas import *\n",
      "import numpy as np\n",
      "from matplotlib import pyplot as pl\n",
      "from bokeh import mpl\n",
      "from bokeh.plotting import figure, output_file, show"
     ],
     "language": "python",
     "metadata": {},
     "outputs": [],
     "prompt_number": 6
    },
    {
     "cell_type": "code",
     "collapsed": false,
     "input": [
      "spike112_117_ls = [[\"116\"],[\"112\", \"117\", \"124\"]]\n",
      "spike112_118_ls = [[\"116\"],[\"112\", \"118\", \"124\"]]\n",
      "spike117_124_ls = [[\"116\"],[\"117\", \"122\", \"124\"]]\n",
      "spike117_122_1_ls = [[\"116\"],[\"117\", \"122\", \"124\"]]\n",
      "spike117_122_2_ls = [[\"116\"],[\"117\", \"120\", \"122\"]]\n",
      "spike117_120_ls = [[\"116\"],[\"117\", \"120\", \"124\"]]\n",
      "spike112_118_2_ls = [[\"116\"],[\"112\", \"118\", \"120\"]]\n",
      "\n",
      "\n",
      "# Define Model Parameter#\n",
      "#*** Natural Fractionation ***#\n",
      "fnat_sim = -1\n",
      "#*** Instrumental Fractionation ***#\n",
      "fins_sim =  2.2\n",
      "#*** Sample/Spike Ratio ***#\n",
      "mix = 0.5\n",
      "mix_2 = np.linspace(0.02, 0.95, 20)\n",
      "# Dampening of simulated mixtures\n",
      "damp = 0.9"
     ],
     "language": "python",
     "metadata": {},
     "outputs": [],
     "prompt_number": 7
    },
    {
     "cell_type": "code",
     "collapsed": false,
     "input": [
      "def spike_mix(spike1, spike2, ratio):\n",
      "    spike_q = collections.OrderedDict()\n",
      "    \n",
      "    for q in ratio:\n",
      "        spike_mix = {}\n",
      "        for isotope in spike1:\n",
      "            spike_mix[isotope] = spike1[isotope] * q + spike2[isotope] * (1-q)\n",
      "        spike_obj = load_abundance_dict(spike_mix)\n",
      "        spike_q.update({q : spike_obj})\n",
      "        print spike_q[q].get_all_abundances()\n",
      "    return spike_q\n",
      "\n",
      "q_117_122_2 = [0.4897]\n",
      "spike_q = spike_mix(spike_117, spike_122, q_117_122_2)\n",
      "q = q_117_122_2[0]\n",
      "spike_117_122_2 = spike_q[q]\n",
      "\n",
      "q_117_122_1 = [0.65]\n",
      "spike_q = spike_mix(spike_117, spike_122, q_117_122_1)\n",
      "q = q_117_122_1[0]\n",
      "spike_117_122_1 = spike_q[q]\n",
      "print spike_117_122_1.get_all_ratios(\"116\") \n",
      "\n",
      "q_112_117 = [0.5317]\n",
      "spike_q = spike_mix(spike_112, spike_117, q_112_117)\n",
      "q = q_112_117[0]\n",
      "spike_112_117 = spike_q[q]\n",
      "\n",
      "q_112_118 = [0.4219]\n",
      "spike_q = spike_mix(spike_112, spike_118, q_112_118)\n",
      "q = q_112_118[0]\n",
      "spike_112_118 = spike_q[q]\n",
      "\n",
      "q_117_124 = [0.4456]\n",
      "spike_q = spike_mix(spike_117, spike_124, q_117_124)\n",
      "q = q_117_124[0]\n",
      "spike_117_124 = spike_q[q]\n",
      "\n",
      "q_117_120 = [0.3614]\n",
      "spike_q = spike_mix(spike_117, spike_120, q_117_120)\n",
      "q = q_117_120[0]\n",
      "spike_117_120 = spike_q[q]\n",
      "\n",
      "q_112_118_2 = [0.4853]\n",
      "spike_q = spike_mix(spike_112, spike_118, q_112_118_2)\n",
      "q = q_112_118_2[0]\n",
      "spike_112_118_2 = spike_q[q]"
     ],
     "language": "python",
     "metadata": {},
     "outputs": [
      {
       "output_type": "stream",
       "stream": "stdout",
       "text": [
        "{'120': 0.030072766715726056, '122': 0.4711587404447249, '115': 0.00039528688388933055, '114': 0.0003463902518188534, '117': 0.43755221602641886, '116': 0.012976589017476945, '124': 0.009434164319463575, '112': 0.0003463902518188534, '119': 0.010775591548149747, '118': 0.026941864540512894}\n",
        "{'120': 0.027485347976197016, '122': 0.324318112549527, '115': 0.0004596713349954781, '114': 0.0003947177767895954, '117': 0.5800602569163048, '116': 0.016158446710601918, '124': 0.007134898547538508, '112': 0.0003947177767895954, '119': 0.010912197778588305, '118': 0.032681632632667636}\n",
        "{'115': 0.028447742733457015, '117': 35.8982683982684, '120': 1.7009894867037725, '114': 0.024427952999381573, '122': 20.07111935683364, '124': 0.44155844155844154, '112': 0.024427952999381573, '119': 0.6753246753246751, '118': 2.022572665429808}\n",
        "{'120': 0.05340799096216757, '122': 0.007210146511611387, '115': 0.002036543713420995, '114': 0.011245606317438456, '117': 0.4325518040098178, '116': 0.04656977862733117, '124': 0.005771432761962426, '112': 0.36467259617678954, '119': 0.01758863675859405, '118': 0.058945464160866524}\n",
        "{'120': 0.040981582999999995, '122': 0.005143847, '115': 0.0015367949999999999, '114': 0.008808482999999999, '117': 0.014570125, '116': 0.030519554999999997, '124': 0.004323171, '112': 0.289136186, '119': 0.014037115, '118': 0.59094314}\n",
        "{'120': 0.014932921991234487, '122': 0.007061538113056165, '115': 0.0004338973999532725, '114': 0.0003338472708365799, '117': 0.39810522664275705, '116': 0.011407875802091879, '124': 0.5387519362701487, '112': 0.00038931506241887426, '119': 0.006158045427080783, '118': 0.02242539602042207}\n",
        "{'120': 0.637597326156297, '122': 0.0018789790588332107, '115': 0.0002488678872060747, '114': 0.0002446562306351957, '117': 0.3229368807633106, '116': 0.009629327503386905, '124': 0.0013342047827672055, '112': 0.0003085413585725673, '119': 0.006349137306176638, '118': 0.019472078952814508}\n",
        "{'120': 0.045392321, '122': 0.0057860889999999995, '115': 0.001730165, '114': 0.010112620999999999, '117': 0.016075875, '116': 0.034542285, '124': 0.004836076999999999, '112': 0.332561382, '119': 0.015042004999999999, '118': 0.5339211799999999}\n"
       ]
      }
     ],
     "prompt_number": 3
    },
    {
     "cell_type": "code",
     "collapsed": false,
     "input": [
      "sim_117_122_2= calc_dspike_sample(Sn_meas_obj,df_new,spike_117_122_2,Sn_mass_obj,spike117_122_2_ls,\"120\")\n",
      "sim1_mix_2 = sim_117_122_2.spike_sim_p_range(mix_2, fnat_sim,fins_sim,damp,3,6,-0.1,-2,'z')\n",
      "\n",
      "sim_117_122_1= calc_dspike_sample(Sn_meas_obj,df_new,spike_117_122_1,Sn_mass_obj,spike117_122_1_ls,\"120\")\n",
      "sim2_mix_2 = sim_117_122_1.spike_sim_p_range(mix_2, fnat_sim,fins_sim,damp,3,6,-0.1,-2,'z')\n",
      "\n",
      "sim_112_117= calc_dspike_sample(Sn_meas_obj,df_new,spike_112_117,Sn_mass_obj,spike112_117_ls,\"120\")\n",
      "sim3_mix_2 = sim_112_117.spike_sim_p_range(mix_2, fnat_sim,fins_sim,damp,3,6,-0.1,-2,'z')\n",
      "\n",
      "sim_117_124= calc_dspike_sample(Sn_meas_obj,df_new,spike_117_124,Sn_mass_obj,spike117_124_ls,\"120\")\n",
      "sim4_mix_2 = sim_117_124.spike_sim_p_range(mix_2, fnat_sim,fins_sim,damp,3,6,-0.1,-2,'z')\n",
      "\n",
      "sim_112_118= calc_dspike_sample(Sn_meas_obj,df_new,spike_112_118,Sn_mass_obj,spike112_118_ls,\"120\")\n",
      "sim5_mix_2 = sim_117_124.spike_sim_p_range(mix_2, fnat_sim,fins_sim,damp,3,6,-0.1,-2,'z')\n",
      "\n",
      "sim_117_120= calc_dspike_sample(Sn_meas_obj,df_new,spike_117_120,Sn_mass_obj,spike117_120_ls,\"120\")\n",
      "sim6_mix_2 = sim_117_120.spike_sim_p_range(mix_2, fnat_sim,fins_sim,damp,3,6,-0.1,-2,'z')\n",
      "\n",
      "sim_112_118_2= calc_dspike_sample(Sn_meas_obj,df_new,spike_112_118_2,Sn_mass_obj,spike112_118_2_ls,\"120\")\n",
      "sim7_mix_2 = sim_112_118_2.spike_sim_p_range(mix_2, fnat_sim,fins_sim,damp,3,6,-0.1,-2,'z')"
     ],
     "language": "python",
     "metadata": {},
     "outputs": [],
     "prompt_number": 12
    },
    {
     "cell_type": "code",
     "collapsed": false,
     "input": [
      "x1, y1 = sim_117_122_2.error_vs_p(sim1_mix_2, 'z')\n",
      "x2, y2 = sim_117_122_1.error_vs_p(sim2_mix_2, 'z')\n",
      "x3, y3 = sim_112_117.error_vs_p(sim3_mix_2, 'z')\n",
      "x4, y4 = sim_117_124.error_vs_p(sim4_mix_2, 'z')\n",
      "x5, y5 = sim_112_118.error_vs_p(sim5_mix_2, 'z')\n",
      "x6, y6 = sim_117_120.error_vs_p(sim6_mix_2, 'z')\n",
      "x7, y7 = sim_112_118_2.error_vs_p(sim7_mix_2, 'z')"
     ],
     "language": "python",
     "metadata": {},
     "outputs": [],
     "prompt_number": 13
    },
    {
     "cell_type": "code",
     "collapsed": false,
     "input": [
      "# output to static HTML file\n",
      "output_file(path+'/Spike_Sim/'+\"Spike_Sim_Pvar.html\", title=\"Error plot P Var\")\n",
      "\n",
      "# create a new plot with a title and axis labels\n",
      "plot = figure(title=\"Error plot P Var\", x_axis_label='Prop. of Sample in Double-Spike Sample Mix', y_axis_label='1s mean Fnat',\n",
      "           x_axis_type=\"linear\", x_range=[0.01, 1], y_range=[0, 5000])\n",
      "\n",
      "# add a line renderer with legend and line thickness\n",
      "plot.line(mix_2, y1, legend=\"117-122,124 d=116 (q = 0.4897)\", line_width=2, color='red')\n",
      "plot.line(mix_2, y2, legend=\"117-122,120 d=116 (q = 0.4995)\", line_width=2, color='blue')\n",
      "plot.line(mix_2, y3, legend=\"112-117,124 d=116 (q = 0.5317)\", line_width=2, color='yellow')\n",
      "plot.line(mix_2, y4, legend=\"117-124,122 d=116 (q = 0.4456)\", line_width=2, color='purple')\n",
      "plot.line(mix_2, y5, legend=\"112-118,124 d=116 (q = 0.4219)\", line_width=2, color='black')\n",
      "plot.line(mix_2, y6, legend=\"117-120,124 d=116 (q = 0.3614)\", line_width=2, color='orange')\n",
      "plot.line(mix_2, y7, legend=\"112-118,120 d=116 (q = 0.4853)\", line_width=2, color='green')\n",
      "# show the results\n",
      "show(plot)"
     ],
     "language": "python",
     "metadata": {},
     "outputs": [],
     "prompt_number": 14
    },
    {
     "cell_type": "code",
     "collapsed": false,
     "input": [
      "sim_117_122_1= calc_dspike_sample(Sn_meas_obj,df_new,spike_117_122_1,Sn_mass_obj,spike117_122_1_ls,\"120\")\n",
      "sim1_mix = sim_117_122_1.spike_sim(fnat_sim, fins_sim, 0.475, damp,3,6,-0.1,-2,'z')\n",
      "sim1_mix.to_csv(\"test.csv\")"
     ],
     "language": "python",
     "metadata": {},
     "outputs": [],
     "prompt_number": 4
    },
    {
     "cell_type": "code",
     "collapsed": false,
     "input": [
      "sim_117_122_1= calc_dspike_sample(Sn_meas_obj,df_new,spike_117_122_1,Sn_mass_obj,spike117_122_1_ls,\"120\")\n",
      "sim2_mix_2 = sim_117_122_1.spike_sim_p_range([0.475], fnat_sim,fins_sim,damp,3,6,-0.1,-2,'z')\n",
      "x2, y2 = sim_117_122_1.error_vs_p(sim2_mix_2, 'z')\n",
      "print x2, y2"
     ],
     "language": "python",
     "metadata": {},
     "outputs": [
      {
       "output_type": "stream",
       "stream": "stdout",
       "text": [
        "[1.105263157894737] [325.67922264478636]\n"
       ]
      }
     ],
     "prompt_number": 5
    },
    {
     "cell_type": "code",
     "collapsed": false,
     "input": [],
     "language": "python",
     "metadata": {},
     "outputs": []
    }
   ],
   "metadata": {}
  }
 ]
}