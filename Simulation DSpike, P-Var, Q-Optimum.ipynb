{
 "metadata": {
  "name": ""
 },
 "nbformat": 3,
 "nbformat_minor": 0,
 "worksheets": [
  {
   "cells": [
    {
     "cell_type": "code",
     "collapsed": false,
     "input": [
      "from parameter import *\n",
      "from dspike_formulas import *\n",
      "import numpy as np\n",
      "from matplotlib import pyplot as pl\n",
      "from bokeh import mpl\n",
      "from bokeh.plotting import figure, output_file, show"
     ],
     "language": "python",
     "metadata": {},
     "outputs": [],
     "prompt_number": 1
    },
    {
     "cell_type": "code",
     "collapsed": false,
     "input": [
      "spike112_117_ls = [[\"116\"],[\"112\", \"117\", \"124\"]]\n",
      "spike112_118_ls = [[\"116\"],[\"112\", \"118\", \"124\"]]\n",
      "spike117_124_ls = [[\"116\"],[\"117\", \"122\", \"124\"]]\n",
      "spike117_122_1_ls = [[\"116\"],[\"117\", \"122\", \"124\"]]\n",
      "spike117_122_2_ls = [[\"116\"],[\"117\", \"120\", \"122\"]]\n",
      "spike117_120_ls = [[\"116\"],[\"117\", \"120\", \"124\"]]\n",
      "spike112_118_2_ls = [[\"116\"],[\"112\", \"118\", \"120\"]]\n",
      "spike117_122_3_ls = [[\"117\"],[\"118\", \"120\", \"122\"]]\n",
      "\n",
      "# Define Model Parameter#\n",
      "#*** Natural Fractionation ***#\n",
      "fnat_sim = -1\n",
      "#*** Instrumental Fractionation ***#\n",
      "fins_sim =  2.2\n",
      "#*** Sample/Spike Ratio ***#\n",
      "mix = 0.5\n",
      "mix_2 = np.linspace(0.02, 0.95, 20)\n",
      "# Dampening of simulated mixtures\n",
      "damp = 0.9"
     ],
     "language": "python",
     "metadata": {},
     "outputs": [],
     "prompt_number": 7
    },
    {
     "cell_type": "code",
     "collapsed": false,
     "input": [
      "def spike_mix(spike1, spike2, ratio):\n",
      "    spike_q = collections.OrderedDict()\n",
      "    \n",
      "    for q in ratio:\n",
      "        spike_mix = {}\n",
      "        for isotope in spike1:\n",
      "            spike_mix[isotope] = spike1[isotope] * q + spike2[isotope] * (1-q)\n",
      "        spike_obj = load_abundance_dict(spike_mix)\n",
      "        spike_q.update({q : spike_obj})\n",
      "    return spike_q\n",
      "\n",
      "q_117_122_2 = [0.35]\n",
      "spike_q = spike_mix(spike_117, spike_122, q_117_122_2)\n",
      "q = q_117_122_2[0]\n",
      "spike_117_122_2 = spike_q[q]\n",
      "\n",
      "q_117_122_1 = [0.65]\n",
      "spike_q = spike_mix(spike_117, spike_122, q_117_122_1)\n",
      "q = q_117_122_1[0]\n",
      "spike_117_122_1 = spike_q[q]\n",
      "\n",
      "q_112_117 = [0.35]\n",
      "spike_q = spike_mix(spike_112, spike_117, q_112_117)\n",
      "q = q_112_117[0]\n",
      "spike_112_117 = spike_q[q]\n",
      "\n",
      "q_112_118 = [0.30]\n",
      "spike_q = spike_mix(spike_112, spike_118, q_112_118)\n",
      "q = q_112_118[0]\n",
      "spike_112_118 = spike_q[q]\n",
      "\n",
      "q_117_124 = [0.425]\n",
      "spike_q = spike_mix(spike_117, spike_124, q_117_124)\n",
      "q = q_117_124[0]\n",
      "spike_117_124 = spike_q[q]\n",
      "\n",
      "q_117_120 = [0.30]\n",
      "spike_q = spike_mix(spike_117, spike_120, q_117_120)\n",
      "q = q_117_120[0]\n",
      "spike_117_120 = spike_q[q]\n",
      "\n",
      "q_112_118_2 = [0.675]\n",
      "spike_q = spike_mix(spike_112, spike_118, q_112_118_2)\n",
      "q = q_112_118_2[0]\n",
      "spike_112_118_2 = spike_q[q]\n",
      "\n",
      "q_117_122_3 = [0.45]\n",
      "spike_q = spike_mix(spike_117, spike_122, q_117_122_3)\n",
      "q = q_117_122_3[0]\n",
      "spike_117_122_3 = spike_q[q]"
     ],
     "language": "python",
     "metadata": {},
     "outputs": [],
     "prompt_number": 36
    },
    {
     "cell_type": "code",
     "collapsed": false,
     "input": [
      "sim_117_122_2= calc_dspike_sample(Sn_meas_obj,df_new,spike_117_122_2,Sn_mass_obj,spike117_122_2_ls,\"120\")\n",
      "sim1_mix_2 = sim_117_122_2.spike_sim_p_range(mix_2, fnat_sim,fins_sim,damp,3,6,-0.1,-2,'z')\n",
      "\n",
      "sim_117_122_1= calc_dspike_sample(Sn_meas_obj,df_new,spike_117_122_1,Sn_mass_obj,spike117_122_1_ls,\"120\")\n",
      "sim2_mix_2 = sim_117_122_1.spike_sim_p_range(mix_2, fnat_sim,fins_sim,damp,3,6,-0.1,-2,'z')\n",
      "\n",
      "sim_112_117= calc_dspike_sample(Sn_meas_obj,df_new,spike_112_117,Sn_mass_obj,spike112_117_ls,\"120\")\n",
      "sim3_mix_2 = sim_112_117.spike_sim_p_range(mix_2, fnat_sim,fins_sim,damp,3,6,-0.1,-2,'z')\n",
      "\n",
      "sim_117_124= calc_dspike_sample(Sn_meas_obj,df_new,spike_117_124,Sn_mass_obj,spike117_124_ls,\"120\")\n",
      "sim4_mix_2 = sim_117_124.spike_sim_p_range(mix_2, fnat_sim,fins_sim,damp,3,6,-0.1,-2,'z')\n",
      "\n",
      "sim_112_118= calc_dspike_sample(Sn_meas_obj,df_new,spike_112_118,Sn_mass_obj,spike112_118_ls,\"120\")\n",
      "sim5_mix_2 = sim_117_124.spike_sim_p_range(mix_2, fnat_sim,fins_sim,damp,3,6,-0.1,-2,'z')\n",
      "\n",
      "sim_117_120= calc_dspike_sample(Sn_meas_obj,df_new,spike_117_120,Sn_mass_obj,spike117_120_ls,\"120\")\n",
      "sim6_mix_2 = sim_117_120.spike_sim_p_range(mix_2, fnat_sim,fins_sim,damp,3,6,-0.1,-2,'z')\n",
      "\n",
      "sim_112_118_2= calc_dspike_sample(Sn_meas_obj,df_new,spike_112_118_2,Sn_mass_obj,spike112_118_2_ls,\"120\")\n",
      "sim7_mix_2 = sim_112_118_2.spike_sim_p_range(mix_2, fnat_sim,fins_sim,damp,3,6,-0.1,-2,'z')\n",
      "\n",
      "sim_117_122_3= calc_dspike_sample(Sn_meas_obj,df_new,spike_117_122_3,Sn_mass_obj,spike117_122_3_ls,\"120\")\n",
      "sim8_mix_2 = sim_117_122_3.spike_sim_p_range(mix_2, fnat_sim,fins_sim,damp,3,6,-0.1,-2,'z')"
     ],
     "language": "python",
     "metadata": {},
     "outputs": [],
     "prompt_number": 39
    },
    {
     "cell_type": "code",
     "collapsed": false,
     "input": [
      "x1, y1 = sim_117_122_2.error_vs_p(sim1_mix_2, 'z')\n",
      "x2, y2 = sim_117_122_1.error_vs_p(sim2_mix_2, 'z')\n",
      "x3, y3 = sim_112_117.error_vs_p(sim3_mix_2, 'z')\n",
      "x4, y4 = sim_117_124.error_vs_p(sim4_mix_2, 'z')\n",
      "x5, y5 = sim_112_118.error_vs_p(sim5_mix_2, 'z')\n",
      "x6, y6 = sim_117_120.error_vs_p(sim6_mix_2, 'z')\n",
      "x7, y7 = sim_112_118_2.error_vs_p(sim7_mix_2, 'z')\n",
      "x8, y8 = sim_117_122_3.error_vs_p(sim8_mix_2, 'z')"
     ],
     "language": "python",
     "metadata": {},
     "outputs": [],
     "prompt_number": 40
    },
    {
     "cell_type": "code",
     "collapsed": false,
     "input": [
      "# output to static HTML file\n",
      "output_file(path+'/Spike_Sim/'+\"Spike_Sim_Pvar_Q-Opt_own_calc.html\", title=\"Error plot P Var\")\n",
      "\n",
      "# create a new plot with a title and axis labels\n",
      "plot = figure(title=\"Error plot P Var - Q-Opt_own calculation\", x_axis_label='Prop. of Sample in Double-Spike Sample Mix', y_axis_label='1s mean Fnat',\n",
      "           x_axis_type=\"linear\", x_range=[0.01, 1], y_range=[0, 3000])\n",
      "\n",
      "# add a line renderer with legend and line thickness\n",
      "plot.line(mix_2, y2, legend=\"117-122,124 d=116 (q = 0.65)\", line_width=2, color='red')\n",
      "plot.line(mix_2, y1, legend=\"117-122,120 d=116 (q = 0.35)\", line_width=2, color='blue')\n",
      "plot.line(mix_2, y3, legend=\"112-117,124 d=116 (q = 0.35)\", line_width=2, color='yellow')\n",
      "plot.line(mix_2, y4, legend=\"117-124,122 d=116 (q = 0.30)\", line_width=2, color='purple')\n",
      "plot.line(mix_2, y5, legend=\"112-118,124 d=116 (q = 0.425)\", line_width=2, color='black')\n",
      "plot.line(mix_2, y6, legend=\"117-120,124 d=116 (q = 0.30)\", line_width=2, color='orange')\n",
      "plot.line(mix_2, y7, legend=\"112-118,120 d=116 (q = 0.675)\", line_width=2, color='green')\n",
      "plot.line(mix_2, y8, legend=\"117-122,120,118 d=117 (q = 0.45)\", line_width=2, color='magenta')\n",
      "# show the results\n",
      "show(plot)"
     ],
     "language": "python",
     "metadata": {},
     "outputs": [],
     "prompt_number": 42
    },
    {
     "cell_type": "code",
     "collapsed": false,
     "input": [
      "sim_117_122_2= calc_dspike_sample(Sn_meas_obj,df_new,spike_117_122_1,Sn_mass_obj,spike117_122_1_ls,\"120\")\n",
      "sim1_mix = sim_117_122_2.spike_sim(fnat_sim, fins_sim, 0.475, damp,3,6,-0.1,-2,'z')\n",
      "sim1_mix.to_csv(path+'/Spike_Sim/'+\"sim_117_122,124 d=116, q=0.65, p=0.475.csv\")"
     ],
     "language": "python",
     "metadata": {},
     "outputs": [],
     "prompt_number": 35
    },
    {
     "cell_type": "code",
     "collapsed": false,
     "input": [
      "p_rang = np.linspace(0.1, 0.9, 33)\n",
      "sim_117_122_2= calc_dspike_sample(Sn_meas_obj,df_new,spike_117_122_3,Sn_mass_obj,spike117_122_3_ls,\"120\")\n",
      "sim2_mix_2 = sim_117_122_2.spike_sim_p_range([0.475], fnat_sim,fins_sim,damp,3,6,-0.1,-2,'z')\n",
      "x2, y2 = sim_117_122_2.error_vs_p(sim2_mix_2, 'z')\n",
      "print p_rang, y2"
     ],
     "language": "python",
     "metadata": {},
     "outputs": [
      {
       "output_type": "stream",
       "stream": "stdout",
       "text": [
        "[ 0.1    0.125  0.15   0.175  0.2    0.225  0.25   0.275  0.3    0.325\n",
        "  0.35   0.375  0.4    0.425  0.45   0.475  0.5    0.525  0.55   0.575  0.6\n",
        "  0.625  0.65   0.675  0.7    0.725  0.75   0.775  0.8    0.825  0.85\n",
        "  0.875  0.9  ] [351.77328082761852]\n"
       ]
      }
     ],
     "prompt_number": 38
    },
    {
     "cell_type": "code",
     "collapsed": false,
     "input": [],
     "language": "python",
     "metadata": {},
     "outputs": []
    }
   ],
   "metadata": {}
  }
 ]
}